{
 "cells": [
  {
   "cell_type": "code",
   "execution_count": 3,
   "id": "594f289e-790c-4e75-bf44-d154dcf3cb9d",
   "metadata": {},
   "outputs": [],
   "source": [
    "import os\n",
    "from pathlib import Path\n",
    "import logging\n",
    "\n",
    "logging.basicConfig(level=logging.INFO, format='[%(asctime)s]: %(message)s:')"
   ]
  },
  {
   "cell_type": "code",
   "execution_count": 4,
   "id": "a481d4bf-b119-4e61-9506-c0e166fa130d",
   "metadata": {},
   "outputs": [],
   "source": [
    "project_name = \"mlopsProject\"\n",
    "\n",
    "list_of_files = [\n",
    "    \".github/workflows/.gitkeep\",\n",
    "    f\"src/{project_name}/__init__.py\",\n",
    "    f\"src/{project_name}/components/__init__.py\",\n",
    "    f\"src/{project_name}/utils/__init__.py\",\n",
    "    f\"src/{project_name}/utils/common.py\",\n",
    "    f\"src/{project_name}/config/__init__.py\",\n",
    "    f\"src/{project_name}/config/configuration.py\",\n",
    "    f\"src/{project_name}/pipeline/__init__.py\",\n",
    "    f\"src/{project_name}/entity/__init__.py\",\n",
    "    f\"src/{project_name}/entity/config_entity.py\",\n",
    "    f\"src/{project_name}/constants/__init__.py\",\n",
    "    \"config/config.yaml\",\n",
    "    \"params.yaml\",\n",
    "    \"schema.yaml\",\n",
    "    \"main.py\",\n",
    "    \"app.py\",\n",
    "    \"Dockerfile\",\n",
    "    \"requirements.txt\",\n",
    "    \"setup.py\",\n",
    "    \"research/trials.ipynb\",\n",
    "    \"templates/index.html\",\n",
    "    \"test.py\"\n",
    "]\n"
   ]
  },
  {
   "cell_type": "code",
   "execution_count": 5,
   "id": "25c245c4-e37f-4a4d-bfd1-ee3b1d7dade9",
   "metadata": {},
   "outputs": [
    {
     "name": "stderr",
     "output_type": "stream",
     "text": [
      "[2025-07-10 16:44:25,450]: Creating directory: .github\\workflows for the file: .gitkeep:\n",
      "[2025-07-10 16:44:25,452]: Creating empty file: .github\\workflows\\.gitkeep:\n",
      "[2025-07-10 16:44:25,453]: Creating directory: src\\mlopsProject for the file: __init__.py:\n",
      "[2025-07-10 16:44:25,454]: Creating empty file: src\\mlopsProject\\__init__.py:\n",
      "[2025-07-10 16:44:25,455]: Creating directory: src\\mlopsProject\\components for the file: __init__.py:\n",
      "[2025-07-10 16:44:25,456]: Creating empty file: src\\mlopsProject\\components\\__init__.py:\n",
      "[2025-07-10 16:44:25,457]: Creating directory: src\\mlopsProject\\utils for the file: __init__.py:\n",
      "[2025-07-10 16:44:25,458]: Creating empty file: src\\mlopsProject\\utils\\__init__.py:\n",
      "[2025-07-10 16:44:25,459]: Creating directory: src\\mlopsProject\\utils for the file: common.py:\n",
      "[2025-07-10 16:44:25,460]: Creating empty file: src\\mlopsProject\\utils\\common.py:\n",
      "[2025-07-10 16:44:25,461]: Creating directory: src\\mlopsProject\\config for the file: __init__.py:\n",
      "[2025-07-10 16:44:25,462]: Creating empty file: src\\mlopsProject\\config\\__init__.py:\n",
      "[2025-07-10 16:44:25,464]: Creating directory: src\\mlopsProject\\config for the file: configuration.py:\n",
      "[2025-07-10 16:44:25,466]: Creating empty file: src\\mlopsProject\\config\\configuration.py:\n",
      "[2025-07-10 16:44:25,479]: Creating directory: src\\mlopsProject\\pipeline for the file: __init__.py:\n",
      "[2025-07-10 16:44:25,481]: Creating empty file: src\\mlopsProject\\pipeline\\__init__.py:\n",
      "[2025-07-10 16:44:25,482]: Creating directory: src\\mlopsProject\\entity for the file: __init__.py:\n",
      "[2025-07-10 16:44:25,484]: Creating empty file: src\\mlopsProject\\entity\\__init__.py:\n",
      "[2025-07-10 16:44:25,486]: Creating directory: src\\mlopsProject\\entity for the file: config_entity.py:\n",
      "[2025-07-10 16:44:25,488]: Creating empty file: src\\mlopsProject\\entity\\config_entity.py:\n",
      "[2025-07-10 16:44:25,489]: Creating directory: src\\mlopsProject\\constants for the file: __init__.py:\n",
      "[2025-07-10 16:44:25,490]: Creating empty file: src\\mlopsProject\\constants\\__init__.py:\n",
      "[2025-07-10 16:44:25,491]: Creating directory: config for the file: config.yaml:\n",
      "[2025-07-10 16:44:25,493]: Creating empty file: config\\config.yaml:\n",
      "[2025-07-10 16:44:25,494]: Creating empty file: params.yaml:\n",
      "[2025-07-10 16:44:25,495]: Creating empty file: schema.yaml:\n",
      "[2025-07-10 16:44:25,497]: Creating empty file: main.py:\n",
      "[2025-07-10 16:44:25,498]: Creating empty file: app.py:\n",
      "[2025-07-10 16:44:25,500]: Creating empty file: Dockerfile:\n",
      "[2025-07-10 16:44:25,502]: Creating empty file: requirements.txt:\n",
      "[2025-07-10 16:44:25,503]: Creating empty file: setup.py:\n",
      "[2025-07-10 16:44:25,504]: Creating directory: research for the file: trials.ipynb:\n",
      "[2025-07-10 16:44:25,505]: Creating empty file: research\\trials.ipynb:\n",
      "[2025-07-10 16:44:25,506]: Creating directory: templates for the file: index.html:\n",
      "[2025-07-10 16:44:25,507]: Creating empty file: templates\\index.html:\n",
      "[2025-07-10 16:44:25,508]: Creating empty file: test.py:\n"
     ]
    }
   ],
   "source": [
    "for filepath in list_of_files:\n",
    "    filepath = Path(filepath)\n",
    "    filedir, filename = os.path.split(filepath)\n",
    "\n",
    "    if filedir != \"\":\n",
    "        os.makedirs(filedir, exist_ok=True)\n",
    "        logging.info(f\"Creating directory: {filedir} for the file: {filename}\")\n",
    "\n",
    "    if (not os.path.exists(filepath)) or (os.path.getsize(filepath) == 0):\n",
    "        with open(filepath, \"w\") as f:\n",
    "            pass  # creates an empty file\n",
    "        logging.info(f\"Creating empty file: {filepath}\")\n",
    "    else:\n",
    "        logging.info(f\"{filename} already exists.\")\n"
   ]
  },
  {
   "cell_type": "code",
   "execution_count": 25,
   "id": "72e36ab0-d2a6-4e87-a59a-71a545a65d39",
   "metadata": {},
   "outputs": [
    {
     "ename": "_IncompleteInputError",
     "evalue": "incomplete input (3916943.py, line 2)",
     "output_type": "error",
     "traceback": [
      "  \u001b[36mCell\u001b[39m\u001b[36m \u001b[39m\u001b[32mIn[25]\u001b[39m\u001b[32m, line 2\u001b[39m\n\u001b[31m    \u001b[39m\u001b[31m# some code here\u001b[39m\n                    ^\n\u001b[31m_IncompleteInputError\u001b[39m\u001b[31m:\u001b[39m incomplete input\n"
     ]
    }
   ],
   "source": [
    "def ingest_data():\n",
    "    # some code here\n"
   ]
  },
  {
   "cell_type": "code",
   "execution_count": null,
   "id": "feeffa8f-a484-4189-98ab-e2d1cde3d1b2",
   "metadata": {},
   "outputs": [],
   "source": []
  }
 ],
 "metadata": {
  "kernelspec": {
   "display_name": "Python 3 (ipykernel)",
   "language": "python",
   "name": "python3"
  },
  "language_info": {
   "codemirror_mode": {
    "name": "ipython",
    "version": 3
   },
   "file_extension": ".py",
   "mimetype": "text/x-python",
   "name": "python",
   "nbconvert_exporter": "python",
   "pygments_lexer": "ipython3",
   "version": "3.13.5"
  }
 },
 "nbformat": 4,
 "nbformat_minor": 5
}
